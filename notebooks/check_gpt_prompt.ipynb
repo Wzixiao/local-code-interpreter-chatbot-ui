{
 "cells": [
  {
   "cell_type": "code",
   "execution_count": 3,
   "id": "c43c2f2f",
   "metadata": {},
   "outputs": [
    {
     "name": "stdout",
     "output_type": "stream",
     "text": [
      "import math\n",
      "\n",
      "def is_prime(n):\n",
      "    if n <= 1:\n",
      "        return False\n",
      "    if n == 2:\n",
      "        return True\n",
      "    if n % 2 == 0:\n",
      "        return False\n",
      "    for i in range(3, int(math.sqrt(n)) + 1, 2):\n",
      "        if n % i == 0:\n",
      "            return False\n",
      "    return True\n",
      "\n",
      "primes = []\n",
      "count = 0\n",
      "num = 2\n",
      "\n",
      "while count < 100:\n",
      "    if is_prime(num):\n",
      "        primes.append(num)\n",
      "        count += 1\n",
      "    num += 1\n",
      "\n",
      "with open('prime.txt', 'w') as file:\n",
      "    for prime in primes:\n",
      "        file.write(str(prime) + '\\n')\n",
      "\n",
      "'prime.txt file created successfully'\n"
     ]
    }
   ],
   "source": [
    "print(\"\"\"import math\\n\\ndef is_prime(n):\\n    if n <= 1:\\n        return False\\n    if n == 2:\\n        return True\\n    if n % 2 == 0:\\n        return False\\n    for i in range(3, int(math.sqrt(n)) + 1, 2):\\n        if n % i == 0:\\n            return False\\n    return True\\n\\nprimes = []\\ncount = 0\\nnum = 2\\n\\nwhile count < 100:\\n    if is_prime(num):\\n        primes.append(num)\\n        count += 1\\n    num += 1\\n\\nwith open('prime.txt', 'w') as file:\\n    for prime in primes:\\n        file.write(str(prime) + '\\\\n')\\n\\n'prime.txt file created successfully'\"\"\")"
   ]
  },
  {
   "cell_type": "code",
   "execution_count": 4,
   "id": "38f090e4",
   "metadata": {},
   "outputs": [
    {
     "data": {
      "text/plain": [
       "'prime.txt file created successfully'"
      ]
     },
     "execution_count": 4,
     "metadata": {},
     "output_type": "execute_result"
    }
   ],
   "source": [
    "import math\n",
    "\n",
    "def is_prime(n):\n",
    "    if n <= 1:\n",
    "        return False\n",
    "    if n == 2:\n",
    "        return True\n",
    "    if n % 2 == 0:\n",
    "        return False\n",
    "    for i in range(3, int(math.sqrt(n)) + 1, 2):\n",
    "        if n % i == 0:\n",
    "            return False\n",
    "    return True\n",
    "\n",
    "primes = []\n",
    "count = 0\n",
    "num = 2\n",
    "\n",
    "while count < 100:\n",
    "    if is_prime(num):\n",
    "        primes.append(num)\n",
    "        count += 1\n",
    "    num += 1\n",
    "\n",
    "with open('prime.txt', 'w') as file:\n",
    "    for prime in primes:\n",
    "        file.write(str(prime) + '\\n')\n",
    "\n",
    "'prime.txt file created successfully'"
   ]
  },
  {
   "cell_type": "code",
   "execution_count": null,
   "id": "92dadd0e",
   "metadata": {},
   "outputs": [],
   "source": []
  }
 ],
 "metadata": {
  "kernelspec": {
   "display_name": "Python 3 (ipykernel)",
   "language": "python",
   "name": "python3"
  },
  "language_info": {
   "codemirror_mode": {
    "name": "ipython",
    "version": 3
   },
   "file_extension": ".py",
   "mimetype": "text/x-python",
   "name": "python",
   "nbconvert_exporter": "python",
   "pygments_lexer": "ipython3",
   "version": "3.10.12"
  }
 },
 "nbformat": 4,
 "nbformat_minor": 5
}
